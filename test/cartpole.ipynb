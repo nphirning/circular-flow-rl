{
 "cells": [
  {
   "cell_type": "markdown",
   "metadata": {},
   "source": [
    "# Policy Gradients on CartPole with PyTorch 1.0"
   ]
  },
  {
   "cell_type": "code",
   "execution_count": null,
   "metadata": {},
   "outputs": [],
   "source": [
    "import gym\n",
    "import numpy as np\n",
    "import matplotlib.pyplot as plt\n",
    "import pandas as pd\n",
    "import torch\n",
    "import torch.nn as nn\n",
    "import torch.optim as optim\n",
    "import torch.nn.functional as F\n",
    "from torch.distributions import Categorical"
   ]
  },
  {
   "cell_type": "code",
   "execution_count": null,
   "metadata": {},
   "outputs": [],
   "source": [
    "env = gym.make('CartPole-v1')\n",
    "env.seed(1)\n",
    "torch.manual_seed(1)\n",
    "\n",
    "# Hyperparameters\n",
    "learning_rate = 0.01\n",
    "gamma = 0.99"
   ]
  },
  {
   "cell_type": "markdown",
   "metadata": {},
   "source": [
    "# Define model and training loop"
   ]
  },
  {
   "cell_type": "code",
   "execution_count": 9,
   "metadata": {},
   "outputs": [],
   "source": [
    "class Policy(nn.Module):\n",
    "    def __init__(self):\n",
    "        super(Policy, self).__init__()\n",
    "        state_space = env.observation_space.shape[0]\n",
    "        action_space = env.action_space.n\n",
    "        num_hidden = 128\n",
    "\n",
    "        self.l1 = nn.Linear(state_space, num_hidden, bias=False)\n",
    "        self.l2 = nn.Linear(num_hidden, action_space, bias=False)\n",
    "\n",
    "        # Overall reward and loss history\n",
    "        self.reward_history = []\n",
    "        self.loss_history = []\n",
    "        self.reset()\n",
    "\n",
    "    def reset(self):\n",
    "        # Episode policy and reward history\n",
    "        self.episode_actions = torch.Tensor([])\n",
    "        self.episode_rewards = []\n",
    "\n",
    "    def forward(self, x):\n",
    "        model = torch.nn.Sequential(\n",
    "            self.l1,\n",
    "            nn.Dropout(p=0.5),\n",
    "            nn.Tanh(),\n",
    "            self.l2,\n",
    "            nn.Softmax(dim=-1)\n",
    "        )\n",
    "        return model(x)\n",
    "\n",
    "\n",
    "def predict(state):\n",
    "    # Select an action (0 or 1) by running policy model\n",
    "    # and choosing based on the probabilities in state\n",
    "    state = torch.from_numpy(state).type(torch.FloatTensor)\n",
    "    action_probs = policy(state)\n",
    "    distribution = Categorical(action_probs)\n",
    "    action = distribution.sample()\n",
    "\n",
    "    # Add log probability of our chosen action to our history\n",
    "    policy.episode_actions = torch.cat([\n",
    "        policy.episode_actions,\n",
    "        distribution.log_prob(action).reshape(1)\n",
    "    ])\n",
    "\n",
    "    return action\n",
    "\n",
    "\n",
    "def update_policy():\n",
    "    R = 0\n",
    "    rewards = []\n",
    "\n",
    "    # Discount future rewards back to the present using gamma\n",
    "    for r in policy.episode_rewards[::-1]:\n",
    "        R = r + gamma * R\n",
    "        rewards.insert(0, R)\n",
    "\n",
    "    # Scale rewards\n",
    "    rewards = torch.FloatTensor(rewards)\n",
    "    rewards = (rewards - rewards.mean()) / \\\n",
    "        (rewards.std() + np.finfo(np.float32).eps)\n",
    "\n",
    "    # Calculate loss\n",
    "    loss = (torch.sum(torch.mul(policy.episode_actions, rewards).mul(-1), -1))\n",
    "\n",
    "    # Update network weights\n",
    "    optimizer.zero_grad()\n",
    "    loss.backward()\n",
    "    optimizer.step()\n",
    "\n",
    "    # Save and intialize episode history counters\n",
    "    policy.loss_history.append(loss.item())\n",
    "    policy.reward_history.append(np.sum(policy.episode_rewards))\n",
    "    policy.reset()\n",
    "\n",
    "\n",
    "def train(episodes):\n",
    "    scores = []\n",
    "    for episode in range(episodes):\n",
    "        # Reset environment and record the starting state\n",
    "        state = env.reset()\n",
    "\n",
    "        for time in range(1000):\n",
    "            print(state)\n",
    "            action = predict(state)\n",
    "\n",
    "            # Uncomment to render the visual state in a window\n",
    "            # env.render()\n",
    "\n",
    "            # Step through environment using chosen action\n",
    "            state, reward, done, _ = env.step(action.item())\n",
    "\n",
    "            # Save reward\n",
    "            policy.episode_rewards.append(reward)\n",
    "            if done:\n",
    "                break\n",
    "\n",
    "        update_policy()\n",
    "\n",
    "        # Calculate score to determine when the environment has been solved\n",
    "        scores.append(time)\n",
    "        mean_score = np.mean(scores[-100:])\n",
    "\n",
    "        if episode % 50 == 0:\n",
    "            print('Episode {}\\tAverage length (last 100 episodes): {:.2f}'.format(\n",
    "                episode, mean_score))\n",
    "\n",
    "        if mean_score > env.spec.reward_threshold:\n",
    "            print(\"Solved after {} episodes! Running average is now {}. Last episode ran to {} time steps.\"\n",
    "                  .format(episode, mean_score, time))\n",
    "            break"
   ]
  },
  {
   "cell_type": "markdown",
   "metadata": {},
   "source": [
    "# Start training"
   ]
  },
  {
   "cell_type": "code",
   "execution_count": 10,
   "metadata": {},
   "outputs": [
    {
     "name": "stdout",
     "output_type": "stream",
     "text": [
      "[ 0.0100971  -0.03201638  0.03556975 -0.04268586]\n",
      "[ 0.00945677  0.16257794  0.03471603 -0.32393739]\n",
      "[ 0.01270833  0.35718881  0.02823729 -0.60547334]\n",
      "[ 0.01985211  0.16168361  0.01612782 -0.30403179]\n",
      "[ 0.02308578 -0.03366443  0.01004718 -0.00630647]\n",
      "[ 0.02241249  0.161312    0.00992105 -0.29580254]\n",
      "[ 2.56387301e-02 -3.39499682e-02  4.00500258e-03 -7.25178129e-06]\n",
      "[ 0.02495973 -0.22912913  0.00400486  0.29393661]\n",
      "[ 0.02037715 -0.42430795  0.00988359  0.58787991]\n",
      "[ 0.01189099 -0.61956691  0.02164119  0.88365977]\n",
      "[-5.00348870e-04 -8.14975946e-01  3.93143834e-02  1.18306671e+00]\n",
      "[-0.01679987 -1.01058536  0.06297572  1.48780956]\n",
      "[-0.03701158 -0.81628459  0.09273191  1.21543877]\n",
      "[-0.05333727 -0.62247307  0.11704068  0.9531947 ]\n",
      "[-0.06578673 -0.81895872  0.13610458  1.28023825]\n",
      "[-0.0821659  -1.01552683  0.16170934  1.61225496]\n",
      "[-0.10247644 -0.82264137  0.19395444  1.3740371 ]\n",
      "Episode 0\tAverage length (last 100 episodes): 16.00\n"
     ]
    }
   ],
   "source": [
    "policy = Policy()\n",
    "optimizer = optim.Adam(policy.parameters(), lr=learning_rate)\n",
    "train(episodes=1)"
   ]
  },
  {
   "cell_type": "markdown",
   "metadata": {},
   "source": [
    "# Plot training performance"
   ]
  },
  {
   "cell_type": "code",
   "execution_count": null,
   "metadata": {},
   "outputs": [],
   "source": [
    "# number of episodes for rolling average\n",
    "window = 50\n",
    "\n",
    "fig, ((ax1), (ax2)) = plt.subplots(2, 1, sharey=True, figsize=[9, 9])\n",
    "rolling_mean = pd.Series(policy.reward_history).rolling(window).mean()\n",
    "std = pd.Series(policy.reward_history).rolling(window).std()\n",
    "ax1.plot(rolling_mean)\n",
    "ax1.fill_between(range(len(policy.reward_history)), rolling_mean -\n",
    "                 std, rolling_mean+std, color='orange', alpha=0.2)\n",
    "ax1.set_title(\n",
    "    'Episode Length Moving Average ({}-episode window)'.format(window))\n",
    "ax1.set_xlabel('Episode')\n",
    "ax1.set_ylabel('Episode Length')\n",
    "\n",
    "ax2.plot(policy.reward_history)\n",
    "ax2.set_title('Episode Length')\n",
    "ax2.set_xlabel('Episode')\n",
    "ax2.set_ylabel('Episode Length')\n",
    "\n",
    "fig.tight_layout(pad=2)\n",
    "plt.show()"
   ]
  },
  {
   "cell_type": "raw",
   "metadata": {},
   "source": []
  }
 ],
 "metadata": {
  "file_extension": ".py",
  "kernelspec": {
   "display_name": "Python 3",
   "language": "python",
   "name": "python3"
  },
  "language_info": {
   "codemirror_mode": {
    "name": "ipython",
    "version": 3
   },
   "file_extension": ".py",
   "mimetype": "text/x-python",
   "name": "python",
   "nbconvert_exporter": "python",
   "pygments_lexer": "ipython3",
   "version": "3.6.4"
  },
  "mimetype": "text/x-python",
  "name": "python",
  "npconvert_exporter": "python",
  "pygments_lexer": "ipython3",
  "version": 3
 },
 "nbformat": 4,
 "nbformat_minor": 2
}
